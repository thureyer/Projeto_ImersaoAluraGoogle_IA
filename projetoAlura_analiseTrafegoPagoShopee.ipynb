{
  "nbformat": 4,
  "nbformat_minor": 0,
  "metadata": {
    "colab": {
      "provenance": [],
      "authorship_tag": "ABX9TyMdxfyNUsGdDgL4MybVzV1/",
      "include_colab_link": true
    },
    "kernelspec": {
      "name": "python3",
      "display_name": "Python 3"
    },
    "language_info": {
      "name": "python"
    }
  },
  "cells": [
    {
      "cell_type": "markdown",
      "metadata": {
        "id": "view-in-github",
        "colab_type": "text"
      },
      "source": [
        "<a href=\"https://colab.research.google.com/github/thureyer/Projeto_ImersaoAluraGoogle_IA/blob/main/projetoAlura_analiseTrafegoPagoShopee.ipynb\" target=\"_parent\"><img src=\"https://colab.research.google.com/assets/colab-badge.svg\" alt=\"Open In Colab\"/></a>"
      ]
    },
    {
      "cell_type": "code",
      "source": [
        "#Instalação do SDK do Google\n",
        "!pip install -q -U google-generativeai"
      ],
      "metadata": {
        "id": "e5ZJfYw1Ikg2"
      },
      "execution_count": 44,
      "outputs": []
    },
    {
      "cell_type": "code",
      "source": [
        "from google.colab import userdata\n",
        "\n",
        "# Config da model\n",
        "import google.generativeai as genai\n",
        "\n",
        "genai.configure(api_key=userdata.get('api_key'))\n"
      ],
      "metadata": {
        "id": "YqGkWU_uR3Jv"
      },
      "execution_count": null,
      "outputs": []
    },
    {
      "cell_type": "code",
      "source": [
        "generation_config = {\n",
        "  \"temperature\": 0.5,\n",
        "}"
      ],
      "metadata": {
        "id": "RCBnG8UPSBmK"
      },
      "execution_count": null,
      "outputs": []
    },
    {
      "cell_type": "code",
      "source": [
        "# Escolhi não bloquear nada, pois no arquivo pode conter muitas palavras de qualquer teor\n",
        "safety_settings = {\n",
        "    'HATE': 'BLOCK_NONE',\n",
        "    'HARASSMENT': 'BLOCK_NONE',\n",
        "    'SEXUAL' : 'BLOCK_NONE',\n",
        "    'DANGEROUS' : 'BLOCK_NONE'\n",
        "}\n"
      ],
      "metadata": {
        "id": "nPRMzimPSG-0"
      },
      "execution_count": null,
      "outputs": []
    },
    {
      "cell_type": "code",
      "source": [
        "model = genai.GenerativeModel(model_name=\"gemini-1.5-pro-latest\",\n",
        "                              generation_config=generation_config,\n",
        "                              safety_settings=safety_settings)\n"
      ],
      "metadata": {
        "id": "fkgDk_b1SKgG"
      },
      "execution_count": null,
      "outputs": []
    },
    {
      "cell_type": "code",
      "source": [
        "import textwrap\n",
        "from IPython.display import display\n",
        "from IPython.display import Markdown\n",
        "\n",
        "#função da aula 4, para melhorar o visual da resposta\n",
        "def to_markdown(text):\n",
        "  text = text.replace('•', '  *')\n",
        "  return Markdown(textwrap.indent(text, '> ', predicate=lambda _: True))\n"
      ],
      "metadata": {
        "id": "AOzxBzW8TN9a"
      },
      "execution_count": null,
      "outputs": []
    },
    {
      "cell_type": "code",
      "source": [
        "import pandas as pd\n",
        "\n",
        "#importando o arquivo e dizendo quais são as colunas\n",
        "#clicando na pasta, <---- a esquerda, vc consegue fazer o upload do arquivo e utilizar aqui\n",
        "#o arquivo está disponível no github, caso queira testar\n",
        "dataset = pd.read_csv(\"/content/arquivo_exemplo.csv\", #coloque o caminho do arquivo aqui\n",
        "                      delimiter=\",\",\n",
        "                      header=None, names=[\"#\",\"Palavras-chave\", \"Tipo de combinação\", \"Consulta de pesquisa\", \"Método de Lance\", \"Impressão\", \"Cliques\", \"CTR\", \"Conversões\", \"Conversões Diretas\", \"Taxa de Conversão\", \"Taxa de Conversão Direta\", \"Custo por Conversão\", \"Custo por Conversão Direta\", \"Itens Vendidos\", \"Itens Vendidos Diretos\", \"VBM\", \"Receita direta\", \"Despesas\", \"Posicionamento Médio\", \"ROAS\", \"ROAS Direto\", \"ACOS\", \"ACOS Direto\"]\n",
        "                      )"
      ],
      "metadata": {
        "collapsed": true,
        "id": "Vbk_GY10V8PM"
      },
      "execution_count": 46,
      "outputs": []
    },
    {
      "cell_type": "code",
      "source": [
        "#Coloquei um history, passando o arquivo como string e um comando, para q o Gemini se comporte como um gestor de Tráfego pago durante o chat\n",
        "chat = model.start_chat(history=[\n",
        "    {\n",
        "      \"role\": \"user\",\n",
        "      \"parts\": [f\"\"\"\n",
        "                  Contexto:\n",
        "                  {dataset.to_string()}\n",
        "\n",
        "                  Pergunta: use esse texto como contexto para próximas perguntas, responda sempre como um gestor de tráfego pago e justifique suas respostas\n",
        "              \"\"\"\n",
        "              ]\n",
        "    },\n",
        "])\n",
        "\n",
        "prompt = input('Esperando comando: ')\n",
        "#Estrutura de repetição para o chat ficar ativo, até que palavra 'fim' seja digitada\n",
        "while prompt != \"fim\":\n",
        "  response = chat.send_message(prompt)\n",
        "  display(to_markdown(f'{response.text}')) #código para mostrar a resposta, chamando a função to_markdown, da aula 4, para melhorar o visual do texto\n",
        "  print('____________________________________________________________________________') #Apenas uma linha, para separar cada resposta\n",
        "  prompt = input('Esperando comando: ')"
      ],
      "metadata": {
        "id": "xKVFCf-0SkV_"
      },
      "execution_count": null,
      "outputs": []
    }
  ]
}